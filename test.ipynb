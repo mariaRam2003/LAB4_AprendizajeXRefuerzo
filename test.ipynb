{
 "cells": [
  {
   "cell_type": "code",
   "execution_count": 3,
   "metadata": {},
   "outputs": [
    {
     "name": "stdout",
     "output_type": "stream",
     "text": [
      "Gymnasium: 1.2.0\n",
      "NumPy: 2.2.6\n"
     ]
    }
   ],
   "source": [
    "import gymnasium as gym\n",
    "import numpy as np\n",
    "\n",
    "print(\"Gymnasium:\", gym.__version__)\n",
    "print(\"NumPy:\", np.__version__)\n"
   ]
  },
  {
   "cell_type": "code",
   "execution_count": 2,
   "metadata": {},
   "outputs": [
    {
     "name": "stdout",
     "output_type": "stream",
     "text": [
      "\n",
      "======= Iteración 1 =======\n",
      "[Evaluación de política] Iteraciones internas: 52\n",
      "Value Function--------------------------\n",
      "array([[ 0.6317923 , -6.58795902, -6.80453753, -6.61860071],\n",
      "       [-0.75683002, -4.85525532, -5.57063098, -5.11612663],\n",
      "       [-2.47364498, -4.21915994, -3.53812091, -0.98866673],\n",
      "       [-2.68471906, -3.44044543, -0.50218183,  3.02651158]])\n",
      "\n",
      "\n",
      "Policy--------------------------\n",
      "[['', '↓', '↓', '↓'],\n",
      " ['↑', '←', '↓', '↓'],\n",
      " ['←', '←', '↓', '↓'],\n",
      " ['←', '→', '→', '']]\n",
      "\n",
      "\n",
      "\n",
      "======= Iteración 2 =======\n",
      "[Evaluación de política] Iteraciones internas: 104\n",
      "Value Function--------------------------\n",
      "array([[49.99913966, 38.59930313, 33.7391814 , 38.5991814 ],\n",
      "       [49.9992257 , 43.99930313, 38.5991814 , 43.9991814 ],\n",
      "       [ 0.        , -1.        , 43.9991814 , 49.9991814 ],\n",
      "       [ 0.        , 43.9991814 , 49.9991814 , 49.9991814 ]])\n",
      "\n",
      "\n",
      "Policy--------------------------\n",
      "[['', '↓', '→', '↓'],\n",
      " ['↑', '←', '←', '↓'],\n",
      " ['↑', '↑', '→', '↓'],\n",
      " ['→', '→', '→', '']]\n",
      "\n",
      "\n",
      "\n",
      "======= Iteración 3 =======\n",
      "[Evaluación de política] Iteraciones internas: 3\n",
      "Value Function--------------------------\n",
      "array([[49.99937281, 38.59949198, 33.73947301, 38.59940324],\n",
      "       [49.99943553, 43.99949198, 38.59954278, 43.99940324],\n",
      "       [43.99949198, 38.59954278, 43.99940324, 49.99940324],\n",
      "       [38.59940324, 43.99940324, 49.99940324, 49.99940324]])\n",
      "\n",
      "\n",
      "Policy--------------------------\n",
      "[['', '↓', '↓', '↓'],\n",
      " ['↑', '←', '←', '↓'],\n",
      " ['↑', '↑', '→', '↓'],\n",
      " ['↑', '→', '→', '']]\n",
      "\n",
      "\n",
      "\n",
      "======= Iteración 4 =======\n",
      "[Evaluación de política] Iteraciones internas: 2\n",
      "Value Function--------------------------\n",
      "array([[49.99949198, 38.5995885 , 33.73962965, 38.59951662],\n",
      "       [49.99954278, 43.9995885 , 38.59962965, 43.99951662],\n",
      "       [43.9995885 , 38.59962965, 43.99951662, 49.99951662],\n",
      "       [38.59962965, 43.99951662, 49.99951662, 49.99951662]])\n",
      "\n",
      "\n",
      "Policy--------------------------\n",
      "[['', '↓', '↓', '↓'],\n",
      " ['↑', '←', '←', '↓'],\n",
      " ['↑', '↑', '→', '↓'],\n",
      " ['↑', '→', '→', '']]\n",
      "\n",
      "\n",
      "✅ Política estable encontrada. Algoritmo finalizado.\n"
     ]
    }
   ],
   "source": [
    "import gymnasium as gym\n",
    "from gridworld import GridWorldEnv\n",
    "from agent import PolicyIterationAgent\n",
    "\n",
    "env = GridWorldEnv()\n",
    "env.reset()\n",
    "\n",
    "## 0.9 is the agent discount factor\n",
    "pi_agent = PolicyIterationAgent(0.9)\n",
    "pi_agent.policyIterate()"
   ]
  }
 ],
 "metadata": {
  "kernelspec": {
   "display_name": "envLab",
   "language": "python",
   "name": "python3"
  },
  "language_info": {
   "codemirror_mode": {
    "name": "ipython",
    "version": 3
   },
   "file_extension": ".py",
   "mimetype": "text/x-python",
   "name": "python",
   "nbconvert_exporter": "python",
   "pygments_lexer": "ipython3",
   "version": "3.10.18"
  }
 },
 "nbformat": 4,
 "nbformat_minor": 2
}
